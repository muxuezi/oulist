{
 "metadata": {
  "name": "",
  "signature": "sha256:496532cb455dac2324ee05fe3a77ffd485d0c1869d0def3a02a443b0376ebd4c"
 },
 "nbformat": 3,
 "nbformat_minor": 0,
 "worksheets": [
  {
   "cells": [
    {
     "cell_type": "code",
     "collapsed": false,
     "input": [
      "import urllib2\n",
      "import thread, Queue, time\n",
      "from bs4 import BeautifulSoup"
     ],
     "language": "python",
     "metadata": {},
     "outputs": [],
     "prompt_number": 1
    },
    {
     "cell_type": "code",
     "collapsed": false,
     "input": [
      "def getname_link(item,d):\n",
      "    url = 'http://dongxi.douban.com/doulists/%s/?start=%d' % (item,d)\n",
      "    html_doc = urllib2.urlopen(url).read()\n",
      "    soup = BeautifulSoup(html_doc, from_encoding=\"gb18030\")\n",
      "    name_link = soup.findAll('a',class_='doulist-title')\n",
      "    for unit in name_link:\n",
      "        life_name_link.append((unit.text.strip(), unit.get('href')))"
     ],
     "language": "python",
     "metadata": {},
     "outputs": [],
     "prompt_number": 39
    },
    {
     "cell_type": "code",
     "collapsed": false,
     "input": [
      "life_name_link=[]\n",
      "list_all = {'life':83,'interesting':25,'fashion':35,'tech':10}\n",
      "for k, v in list_all.items():\n",
      "    allpage = map(lambda x: 20*x, range(v))\n",
      "    for d in allpage:\n",
      "        getname_link(k,d)"
     ],
     "language": "python",
     "metadata": {},
     "outputs": [],
     "prompt_number": 40
    },
    {
     "cell_type": "code",
     "collapsed": false,
     "input": [
      "with open('doulist.txt','w') as doufile:\n",
      "    doufile.writelines(['\\t'.join(x).encode('utf-8')+'\\n' for x in life_name_link])"
     ],
     "language": "python",
     "metadata": {},
     "outputs": [],
     "prompt_number": 41
    },
    {
     "cell_type": "code",
     "collapsed": false,
     "input": [
      "life_name_link = open('doulist.txt','r').readlines()\n",
      "print len(life_name_link)\n",
      "for name, url in life_name_link:\n",
      "    html_doc = urllib2.urlopen(url).read()\n",
      "    soup = BeautifulSoup(html_doc, from_encoding=\"gb18030\")\n",
      "    lenpage = int(soup.find('div',class_='paginator').text.split()[-2])\n",
      "    allpage = map(lambda x: 20*x, range(lenpage))\n",
      "    for page in allpage:\n",
      "        aurl = '%s?start=%d' % (url.split('?')[0],page)\n",
      "        html_doc = urllib2.urlopen(aurl).read()\n",
      "        soup = BeautifulSoup(html_doc, from_encoding=\"gb18030\")\n",
      "        for itemchild in soup.findAll('li', class_='carditem card-story-large'):\n",
      "            name = itemchild.find('a').get('title').strip()\n",
      "            link = itemchild.find('a').get('href')\n",
      "            price = itemchild.find('span', class_=\"commodity-price\").text\n",
      "            cons = soup.find('ul', class_=\"stats-list\").text.split()\n",
      "            print [name, link, price]+cons"
     ],
     "language": "python",
     "metadata": {},
     "outputs": [
      {
       "output_type": "stream",
       "stream": "stdout",
       "text": [
        "2992\n"
       ]
      }
     ],
     "prompt_number": 4
    },
    {
     "cell_type": "code",
     "collapsed": false,
     "input": [
      "2992/4"
     ],
     "language": "python",
     "metadata": {},
     "outputs": [
      {
       "metadata": {},
       "output_type": "pyout",
       "prompt_number": 5,
       "text": [
        "748"
       ]
      }
     ],
     "prompt_number": 5
    },
    {
     "cell_type": "code",
     "collapsed": false,
     "input": [
      "def test(allpage, dataQueue):\n",
      "    for page in allpage:\n",
      "        aurl = '%s?start=%d' % (url.split('?')[0],page)\n",
      "        html_doc = urllib2.urlopen(aurl).read()\n",
      "        soup = BeautifulSoup(html_doc, from_encoding=\"gb18030\")\n",
      "        for itemchild in soup.findAll('li', class_='carditem card-story-large'):\n",
      "            name = itemchild.find('a').get('title').strip()\n",
      "            link = itemchild.find('a').get('href')\n",
      "            price = itemchild.find('span', class_=\"commodity-price\").text\n",
      "            cons = soup.find('ul', class_=\"stats-list\").text.split()\n",
      "            print [name, link, price]+cons\n",
      "            dataQueue.put(data)\n",
      "\n",
      "# In[12]:\n",
      "\n",
      "numconsumers = 4                  # how many consumers to start\n",
      "numproducers = 4                  # how many producers to start\n",
      "nummessages  = 748                  # messages per producer to put\n",
      "\n",
      "safeprint = thread.allocate_lock()    # else prints may overlap\n",
      "dataQueue = Queue.Queue()             # shared global, infinite size\n",
      "\n",
      "def producer(life_name_link, idnum, dataQueue):\n",
      "    for msgnum in range(nummessages):\n",
      "        msgnum += idnum * nummessages\n",
      "        name, url = life_name_link[msgnum]\n",
      "        html_doc = urllib2.urlopen(url).read()\n",
      "        soup = BeautifulSoup(html_doc, from_encoding=\"gb18030\")\n",
      "        lenpage = int(soup.find('div',class_='paginator').text.split()[-2])\n",
      "        allpage = map(lambda x: 20*x, range(lenpage))\n",
      "        test(msgnum,dataQueue)\n",
      "\n",
      "def consumer(idnum, dataQueue):\n",
      "    while True:\n",
      "        time.sleep(0.1)\n",
      "        try:\n",
      "            data = dataQueue.get(block=False)\n",
      "        except Queue.Empty:\n",
      "            pass\n",
      "        else:\n",
      "            with safeprint:\n",
      "                with open('doutemp2.txt','a+') as fileout:\n",
      "                    fileout.write('consumer %s got => %s+\\n' % (str(idnum), '\\t'.join(data).encode('utf-8')))\n",
      "                print 'consumer', idnum, 'got =>',data[0]\n",
      "\n",
      "if __name__ == '__main__':\n",
      "    life_name_link = open('doulist.txt','r').readlines() \n",
      "    with open('doutemp2.txt','w') as fileout:\n",
      "        fileout.write('')\n",
      "    for i in range(numconsumers):\n",
      "        thread.start_new_thread(consumer, (i, dataQueue))\n",
      "    for i in range(numproducers):\n",
      "        thread.start_new_thread(producer, (life_name_link, i, dataQueue))\n",
      "    # time.sleep(((numproducers-1) * nummessages) + 1)\n",
      "    print 'Main thread exit.'"
     ],
     "language": "python",
     "metadata": {},
     "outputs": []
    }
   ],
   "metadata": {}
  }
 ]
}